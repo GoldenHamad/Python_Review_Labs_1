{
 "cells": [
  {
   "cell_type": "markdown",
   "id": "b97dc926",
   "metadata": {},
   "source": [
    "## Lab1-Variables\n",
    "- Define a variable that has a value of your favourite season.\n",
    "- Define “x“ variable has an integer value and variable “y” has a float value.\n",
    "- Assign One Value to Multiple Variables.\n",
    "- Assign Many Values to Multiple Variables."
   ]
  },
  {
   "cell_type": "code",
   "execution_count": 4,
   "id": "8d2579eb",
   "metadata": {},
   "outputs": [],
   "source": [
    "\"\"\"This code has some basic assignment examples.\"\"\"\n",
    "\n",
    "Fav_Season = \"Summer\"\n",
    "x = 3\n",
    "y = 10.0\n",
    "x = y = 6.0\n",
    "x, y = 4, 2.0\n"
   ]
  },
  {
   "cell_type": "markdown",
   "id": "e6d060b4",
   "metadata": {},
   "source": [
    "## Lab2-Conditions\n",
    "\n",
    "### You want to recommend a movie to a friend based on the rating and popularity. To accomplish this do the following: \n",
    "\n",
    "- Create a variable for the movie (choose any movie you like).\n",
    "- Create a variable of type int to hold the rating of the movie out of 5. Give this movie rate = 3\n",
    "- Create a popularity score of type float, let it be 72.65\n",
    "- Using an if statement:\n",
    " - Check if the movie rating is 4 or greater and the popularity is greater than 80, print \"Highly recommended\".\n",
    " - Else if the movie rating is 3 or greater and the popularity is greater than 70, print \"I recommended it, It is good\".\n",
    " - Else if the movie rating is 2 or less and the popularity is greater than 60, print \"You should check it out!\".\n",
    " - Else the movie rating is 2 or less and the popularity is less than 50, print \"Don't watch it, It is a waste of time\"."
   ]
  },
  {
   "cell_type": "code",
   "execution_count": 14,
   "id": "b41b0f4b",
   "metadata": {},
   "outputs": [
    {
     "name": "stdout",
     "output_type": "stream",
     "text": [
      "I recommended it, It is good\n"
     ]
    }
   ],
   "source": [
    "\"\"\"Return your recommendation for a given movie.\n",
    "\n",
    "This code gives a movie recommendation,\n",
    "based on it's rating and popularity.\n",
    "\"\"\"\n",
    "\n",
    "Movie = \"shawshank redemption\"\n",
    "Rating = 3\n",
    "Popularity = 72.65\n",
    "\n",
    "if Rating <= 5 and Popularity <= 100:\n",
    "    if Rating >= 4 and Popularity > 80:\n",
    "        print(\"Highly recommended\")\n",
    "    elif Rating >= 3 and Popularity > 70:\n",
    "        print(\"I recommended it, It is good\")\n",
    "    elif Rating <= 2 and Popularity > 60:\n",
    "        print(\"You should check it out!\")\n",
    "    else:\n",
    "        if Rating <= 2 and Popularity < 50:\n",
    "            print(\"Don't watch it, It is a waste of time\")\n"
   ]
  },
  {
   "cell_type": "code",
   "execution_count": null,
   "id": "134c37db-5273-4ae0-a8cd-b861f8adc8c8",
   "metadata": {},
   "outputs": [],
   "source": []
  }
 ],
 "metadata": {
  "kernelspec": {
   "display_name": "Python 3 (ipykernel)",
   "language": "python",
   "name": "python3"
  },
  "language_info": {
   "codemirror_mode": {
    "name": "ipython",
    "version": 3
   },
   "file_extension": ".py",
   "mimetype": "text/x-python",
   "name": "python",
   "nbconvert_exporter": "python",
   "pygments_lexer": "ipython3",
   "version": "3.11.7"
  }
 },
 "nbformat": 4,
 "nbformat_minor": 5
}

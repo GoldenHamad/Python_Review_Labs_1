{
 "cells": [
  {
   "cell_type": "markdown",
   "id": "fd7b73d1",
   "metadata": {},
   "source": [
    "## Lab1-Loop\n",
    "\n",
    "### 1) Using range(), make a range from 45 to 210, using a for loop iterate over the sequence and print the elements. Skip the number 100 and break the loop at 205.\n",
    "\n",
    "### 2) Using a while loop and input, do the following:\n",
    "- Ask the the user : \"what is the product of 7 * 24 ?\"\n",
    "- check if the answer is right then exit the loop and print \"You answered this Question correctly\".\n",
    "- if the answer is wrong, then print \"Your Answer is wrong try again..\" and show the user the question again."
   ]
  },
  {
   "cell_type": "code",
   "execution_count": 14,
   "id": "81576461",
   "metadata": {},
   "outputs": [],
   "source": [
    "\"\"\"Solution for exercise 1 of lab 1.\"\"\"\n",
    "\n",
    "for i in range(45, 210):\n",
    "    if i == 100:\n",
    "        continue\n",
    "    elif i == 205:\n",
    "        break\n"
   ]
  },
  {
   "cell_type": "code",
   "execution_count": 10,
   "id": "c91dcd2c",
   "metadata": {},
   "outputs": [
    {
     "name": "stdin",
     "output_type": "stream",
     "text": [
      "what is the product of 7 * 24? 14\n"
     ]
    },
    {
     "name": "stdout",
     "output_type": "stream",
     "text": [
      "Your Answer is wrong try again..\n"
     ]
    },
    {
     "name": "stdin",
     "output_type": "stream",
     "text": [
      "what is the product of 7 * 24? 12\n"
     ]
    },
    {
     "name": "stdout",
     "output_type": "stream",
     "text": [
      "Your Answer is wrong try again..\n"
     ]
    },
    {
     "name": "stdin",
     "output_type": "stream",
     "text": [
      "what is the product of 7 * 24? 168\n"
     ]
    },
    {
     "name": "stdout",
     "output_type": "stream",
     "text": [
      "You answered this Question correctly\n"
     ]
    }
   ],
   "source": [
    "\"\"\"Solution for exercise 2 of lab 2.\"\"\"\n",
    "\n",
    "while(True):\n",
    "    Answer = input(\"what is the product of 7 * 24?\")\n",
    "    if int(Answer) == 168:\n",
    "        break\n",
    "    print(\"Your Answer is wrong try again..\")\n",
    "print(\"You answered this Question correctly\")\n"
   ]
  },
  {
   "cell_type": "markdown",
   "id": "5887393a",
   "metadata": {},
   "source": [
    "## Lab2-Functions\n",
    "\n",
    "### Create a function that takes one parameter of type int, then it prints out the result formatted like the following pattern (if we give it 5 for example):\n",
    "5 4 3 2 1   \n",
    "4 3 2 1   \n",
    "3 2 1   \n",
    "2 1   \n",
    "1   "
   ]
  },
  {
   "cell_type": "code",
   "execution_count": 55,
   "id": "44c6b152",
   "metadata": {},
   "outputs": [],
   "source": [
    "\"\"\"Solution for Lab 2 Exercise.\"\"\"\n",
    "def tringle(num):\n",
    "    \"\"\"\n",
    "    Print a tringle.\n",
    "\n",
    "    This method is used to print a Tringle shape the size of a the input number\n",
    "    and returns nothing, as per the question's request.\n",
    "    \"\"\"\n",
    "    if(num == 0):\n",
    "        return\n",
    "\n",
    "    for tmp in range(num, 0, -1):\n",
    "        print(tmp, end=\" \")\n",
    "        if tmp == 1:\n",
    "            print(\"\\n\")\n",
    "            num -= 1\n",
    "            tringle(num)\n"
   ]
  }
 ],
 "metadata": {
  "kernelspec": {
   "display_name": "Python 3 (ipykernel)",
   "language": "python",
   "name": "python3"
  },
  "language_info": {
   "codemirror_mode": {
    "name": "ipython",
    "version": 3
   },
   "file_extension": ".py",
   "mimetype": "text/x-python",
   "name": "python",
   "nbconvert_exporter": "python",
   "pygments_lexer": "ipython3",
   "version": "3.11.7"
  }
 },
 "nbformat": 4,
 "nbformat_minor": 5
}
